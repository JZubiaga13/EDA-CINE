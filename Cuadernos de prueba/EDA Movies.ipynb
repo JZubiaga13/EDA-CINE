{
 "cells": [
  {
   "cell_type": "markdown",
   "metadata": {},
   "source": [
    "# -------------------- EDA JUAN ZUBIAGA ------------------------"
   ]
  },
  {
   "cell_type": "markdown",
   "metadata": {},
   "source": [
    "## 0. IMPORTAR LIBRERIAS Y DATOS"
   ]
  },
  {
   "cell_type": "code",
   "execution_count": null,
   "metadata": {},
   "outputs": [],
   "source": [
    "import pandas as pd\n",
    "import numpy as np\n",
    "import seaborn as sns\n",
    "import matplotlib.pyplot as plt\n",
    "import matplotlib.ticker as tick\n",
    "from bs4 import BeautifulSoup as bs\n",
    "import requests\n",
    "import pickle\n",
    "\n",
    "pd.set_option('max_colwidth', 800)"
   ]
  },
  {
   "cell_type": "code",
   "execution_count": null,
   "metadata": {},
   "outputs": [],
   "source": [
    "movdat=\"/Users/juanzubiaga/Desktop/BOOTCAMPDS/1-Local/EDA/J-EDA/TMDB_Movie_Limpito.csv\"\n",
    "moviesdbinfo=pd.read_csv(movdat)\n",
    "moviesdb=moviesdbinfo.drop(columns={'overview'})"
   ]
  },
  {
   "cell_type": "code",
   "execution_count": null,
   "metadata": {},
   "outputs": [],
   "source": [
    "mov322= \"/Users/juanzubiaga/Desktop/BOOTCAMPDS/1-Local/EDA/J-EDA/100movies322.csv\"\n",
    "\n",
    "movies322= pd.read_csv(mov322)\n",
    "movies322.columns"
   ]
  },
  {
   "cell_type": "markdown",
   "metadata": {},
   "source": [
    "He tenido un desajuste con otra de las pestañas en las que he desarrollado una de las hipótesis, entonces tengo que hacer una copia de movies322 quitando alguna de las columnas"
   ]
  },
  {
   "cell_type": "code",
   "execution_count": null,
   "metadata": {},
   "outputs": [],
   "source": [
    "movies22=movies322[['Title','IMDB Rating','Year','Runtime','Genre','Budget','Income','Country_of_origin']]"
   ]
  },
  {
   "cell_type": "code",
   "execution_count": null,
   "metadata": {},
   "outputs": [],
   "source": [
    "movi= \"/Users/juanzubiaga/Desktop/BOOTCAMPDS/1-Local/EDA/J-EDA/movies.csv\"\n",
    "movies= pd.read_csv(movi)\n",
    "movies.columns\n"
   ]
  },
  {
   "cell_type": "code",
   "execution_count": null,
   "metadata": {},
   "outputs": [],
   "source": [
    "oscar2=\"/Users/juanzubiaga/Desktop/BOOTCAMPDS/1-Local/EDA/J-EDA/the_oscar_award.csv\"\n",
    "oscar2=pd.read_csv(oscar2)\n",
    "oscar2.head()"
   ]
  },
  {
   "cell_type": "code",
   "execution_count": null,
   "metadata": {},
   "outputs": [],
   "source": [
    "os= \"/Users/juanzubiaga/Desktop/BOOTCAMPDS/1-Local/EDA/oscars_df.csv\"\n",
    "oscars= pd.read_csv(os)\n",
    "oscars[oscars['Award']=='Winner']"
   ]
  },
  {
   "cell_type": "markdown",
   "metadata": {},
   "source": [
    "No he encontrado informacion fiable sobre los Premios Goya, por lo que he recopilado manualmente a través de diversas fuentes (principalmente Wikipedia), todas las ganadoras a Mejor Película."
   ]
  },
  {
   "cell_type": "code",
   "execution_count": null,
   "metadata": {},
   "outputs": [],
   "source": [
    "conteo_goya= pd.Series([1,4,11,26,8,2,2], \n",
    "                       index=['Supervivencia', 'Suspense', 'Comedia','Drama', 'Thriller', 'Fantasía','Terror'])"
   ]
  },
  {
   "cell_type": "markdown",
   "metadata": {},
   "source": [
    "# 1. LIMPIAR DATOS"
   ]
  },
  {
   "cell_type": "markdown",
   "metadata": {},
   "source": [
    "## 1.1"
   ]
  },
  {
   "cell_type": "code",
   "execution_count": null,
   "metadata": {},
   "outputs": [],
   "source": [
    "movies22.dtypes"
   ]
  },
  {
   "cell_type": "code",
   "execution_count": null,
   "metadata": {},
   "outputs": [],
   "source": [
    "movies22.isnull().sum()"
   ]
  },
  {
   "cell_type": "markdown",
   "metadata": {},
   "source": [
    "Al intentar convertir las variables numericas a ints o floats para combinarla con otra ds me daba error porque existen unknowns. Tengo que convertirlos a Nans para poder continuar."
   ]
  },
  {
   "cell_type": "code",
   "execution_count": null,
   "metadata": {},
   "outputs": [],
   "source": [
    "movies22.replace('Unknown',pd.NA,inplace=True)\n",
    "movies22.isnull().sum()"
   ]
  },
  {
   "cell_type": "code",
   "execution_count": null,
   "metadata": {},
   "outputs": [],
   "source": [
    "movies22[(movies22['Runtime'].isna())|(movies22['IMDB Rating'].isna())]"
   ]
  },
  {
   "cell_type": "markdown",
   "metadata": {},
   "source": [
    "Ya que mi hipotesis se centra en películas minimamente populares o conocidas, voy a optar por ignorar de mi estudio Mantus, que no tiene ni pagina en IMDB, y My Little Princess, que es un cortometraje con una valoración muy baja. Y a cambio de este ahorro en esfuerzo, voy a completar la informacion de la primera, que si conozco, con webscrapping, en lugar de buscarla en el movil y rellenarla manualmente."
   ]
  },
  {
   "cell_type": "code",
   "execution_count": null,
   "metadata": {},
   "outputs": [],
   "source": [
    "movies22.drop(labels=[848,1249],inplace=True)"
   ]
  },
  {
   "cell_type": "code",
   "execution_count": null,
   "metadata": {},
   "outputs": [],
   "source": [
    "from fake_useragent import UserAgent\n",
    "ua= UserAgent()\n",
    "headers = {'User-Agent': ua.random}\n",
    "url= \"https://www.imdb.com/es-es/title/tt7405458/\"\n",
    "response = requests.get(url, headers=headers)\n",
    "print(response)\n",
    "html=response.content\n",
    "soup = bs(html, 'html.parser')"
   ]
  },
  {
   "cell_type": "code",
   "execution_count": null,
   "metadata": {},
   "outputs": [],
   "source": [
    "ottorating= soup.findAll('span',class_='sc-d541859f-1 imUuxf')\n",
    "ottorating[0].text"
   ]
  },
  {
   "cell_type": "code",
   "execution_count": null,
   "metadata": {},
   "outputs": [],
   "source": [
    "movies22['IMDB Rating']=movies22['IMDB Rating'].fillna(ottorating[0].text)\n",
    "movies22.iloc[84:87]"
   ]
  },
  {
   "cell_type": "code",
   "execution_count": null,
   "metadata": {},
   "outputs": [],
   "source": [
    "movies22['IMDB Rating']=movies22['IMDB Rating'].replace('7,5','7.5')\n",
    "movies22.iloc[84:87]"
   ]
  },
  {
   "cell_type": "code",
   "execution_count": null,
   "metadata": {},
   "outputs": [],
   "source": [
    "movies[movies['original_title']!=movies['title']]"
   ]
  },
  {
   "cell_type": "markdown",
   "metadata": {},
   "source": [
    "Veo que el original title es el titulo en el idioma de producción, por lo que para el estudio solo me interesa el titulo en inglés, que coincide en su mayoria con el original. Lo siguiente es quedarme solo con el año en la fecha de estreno y tratar de filtrarla."
   ]
  },
  {
   "cell_type": "code",
   "execution_count": null,
   "metadata": {},
   "outputs": [],
   "source": [
    "movies.drop(columns=['original_title','homepage','id','keywords','original_language','overview','production_companies','spoken_languages','status','tagline','vote_average', 'vote_count','cast','crew','director'],inplace=True)\n",
    "movies.dtypes"
   ]
  },
  {
   "cell_type": "code",
   "execution_count": null,
   "metadata": {},
   "outputs": [],
   "source": [
    "movies[movies['popularity']<2]"
   ]
  },
  {
   "cell_type": "code",
   "execution_count": null,
   "metadata": {},
   "outputs": [],
   "source": [
    "print(movies[movies['popularity']<1.5].isnull().sum())\n",
    "print(movies[movies['popularity']>1.5].isnull().sum())"
   ]
  },
  {
   "cell_type": "markdown",
   "metadata": {},
   "source": [
    "Por la misma razon, voy a descartar aquellas con indices de popularidad bajos, que además resultan ser en las que se concentran los NaNs."
   ]
  },
  {
   "cell_type": "code",
   "execution_count": null,
   "metadata": {},
   "outputs": [],
   "source": [
    "movies.drop(movies[movies['popularity']<1.5].index,inplace=True)\n",
    "movies.shape"
   ]
  },
  {
   "cell_type": "code",
   "execution_count": null,
   "metadata": {},
   "outputs": [],
   "source": [
    "movies.rename(columns={'release_date':'Year'},inplace=True)\n",
    "movies.rename(columns={'title':'Title'},inplace=True)\n",
    "movies['Year'] = movies['Year'].apply(lambda x: str(x).split('-')[0])\n",
    "movies.head()\n"
   ]
  },
  {
   "cell_type": "markdown",
   "metadata": {},
   "source": [
    "Para poder comparar las duraciones de las dos ds tengo que hacer que las variables que voy a juntar sean del mismo tipo."
   ]
  },
  {
   "cell_type": "code",
   "execution_count": null,
   "metadata": {},
   "outputs": [],
   "source": [
    "movies.dtypes"
   ]
  },
  {
   "cell_type": "code",
   "execution_count": null,
   "metadata": {},
   "outputs": [],
   "source": [
    "movies22['Runtime']=movies22['Runtime'].fillna(0)\n",
    "movies22['Runtime']=movies22['Runtime'].astype('Int64')\n",
    "movies22['Runtime']=movies22['Runtime'].replace(0,pd.NA)\n",
    "movies['runtime']=movies['runtime'].fillna(0)\n",
    "movies['runtime']=movies['runtime'].astype('Int64')\n",
    "movies['runtime']=movies['runtime'].replace(0,pd.NA)\n",
    "movies.rename(columns={'runtime':'Runtime'},inplace=True)\n",
    "movies['Year']=movies['Year'].fillna(0)\n",
    "movies['Year']=movies['Year'].astype(int)\n",
    "movies['Year']=movies['Year'].replace(0,pd.NA)\n",
    "movies['popularity']=movies['popularity'].fillna(0)\n",
    "movies['popularity']=movies['popularity'].astype(float)\n",
    "movies['popularity']=movies['popularity'].replace(0,pd.NA)\n",
    "movies22['IMDB Rating']=movies22['IMDB Rating'].fillna(0)\n",
    "movies22['IMDB Rating']=movies22['IMDB Rating'].astype(float)\n",
    "movies22['IMDB Rating']=movies22['IMDB Rating'].replace(0,pd.NA)"
   ]
  },
  {
   "cell_type": "code",
   "execution_count": null,
   "metadata": {},
   "outputs": [],
   "source": [
    "print(movies.dtypes)\n",
    "print(movies22.dtypes)"
   ]
  },
  {
   "cell_type": "code",
   "execution_count": null,
   "metadata": {},
   "outputs": [],
   "source": [
    "print(movies22.isnull().sum())\n",
    "print(movies.isna().sum())\n"
   ]
  },
  {
   "cell_type": "code",
   "execution_count": null,
   "metadata": {},
   "outputs": [],
   "source": [
    "movies[movies['Runtime'].isna()]"
   ]
  },
  {
   "cell_type": "markdown",
   "metadata": {},
   "source": [
    "He estado indagando y preguntando en los foros y a copilot y no consigo entender porque me crea estos nans, pero por suerte es en peliculas poco conocidas que en un ds tan grande puedo ignorar."
   ]
  },
  {
   "cell_type": "code",
   "execution_count": null,
   "metadata": {},
   "outputs": [],
   "source": [
    "movies.drop(labels=[3809,4241],inplace=True)"
   ]
  },
  {
   "cell_type": "code",
   "execution_count": null,
   "metadata": {},
   "outputs": [],
   "source": [
    "print(movies22.isnull().sum())\n",
    "print(movies.isna().sum())\n"
   ]
  },
  {
   "cell_type": "code",
   "execution_count": null,
   "metadata": {},
   "outputs": [],
   "source": [
    "moviesdbinfo.isnull().sum()"
   ]
  },
  {
   "cell_type": "code",
   "execution_count": null,
   "metadata": {},
   "outputs": [],
   "source": [
    "moviesdb.rename(columns={'release_date':'Year'},inplace=True)\n",
    "moviesdb.rename(columns={'title':'Title'},inplace=True)\n",
    "moviesdb['popularity'] = moviesdb['popularity'].apply(lambda x: str(x).split('.')[0])\n",
    "moviesdb['popularity'] = moviesdb['popularity'].astype(int)\n",
    "moviesdb['Year'] = moviesdb['Year'].apply(lambda x: str(x).split('-')[0])\n",
    "moviesdb['Year']=moviesdb['Year'].replace('nan','0')\n",
    "moviesdb['Year']=moviesdb['Year'].fillna(0)\n",
    "moviesdb['Year']=moviesdb['Year'].replace(0,pd.NA)\n",
    "moviesdb['Year']=moviesdb['Year'].astype('int')\n",
    "print(moviesdb.dtypes)\n",
    "moviesdb"
   ]
  },
  {
   "cell_type": "code",
   "execution_count": null,
   "metadata": {},
   "outputs": [],
   "source": [
    "moviesdb.isnull().sum()"
   ]
  },
  {
   "cell_type": "markdown",
   "metadata": {},
   "source": [
    "He encontrado una base de datos de un millon de peliculas y a primera vista bastante limpia. Ya la he reducido en otra ventana quitando columnas que no me interesan, documentales, peliculas cortas y peliculas para adultos, para poder importarla mas rapido, y ahora tengo que filtrarla bastante tratando de obtener peliculas populares y minimamente votadas. Que sea tan extensa me baja el riesgo de que un error de sus escritores me afecte mucho al analisis. "
   ]
  },
  {
   "cell_type": "code",
   "execution_count": null,
   "metadata": {},
   "outputs": [],
   "source": [
    "moviesdb[(moviesdb['Title'].str.contains('sex'))|(moviesdb['Title'].str.contains('Sex'))]"
   ]
  },
  {
   "cell_type": "code",
   "execution_count": null,
   "metadata": {},
   "outputs": [],
   "source": [
    "moviesdb[((moviesdb['Title'].str.contains('sex'))|(moviesdb['Title'].str.contains('Sex')))&((moviesdb['vote_count']<10))&(moviesdb['popularity']<5)]"
   ]
  },
  {
   "cell_type": "code",
   "execution_count": null,
   "metadata": {},
   "outputs": [],
   "source": [
    "mascarasx= ((moviesdb['Title'].str.contains('sex', case=False))&(((moviesdb['vote_count']<10)&(moviesdb['popularity']<5))|(moviesdb['budget']==0)))\n",
    "moviesdb=moviesdb[~mascarasx]"
   ]
  },
  {
   "cell_type": "code",
   "execution_count": null,
   "metadata": {},
   "outputs": [],
   "source": [
    "moviesdb[moviesdb['Title'].astype(str).str.contains('Sex',case=False)].head(10)"
   ]
  },
  {
   "cell_type": "markdown",
   "metadata": {},
   "source": [
    "Aún sigue habiendo peliculas con títulos extraños, asi que tengo que filtrar por un minimo de probabilidad o nº de votos.\n",
    "He visto que no puedo filtrar por recaudacion, lo que me seria muy facil para distinguir las peliculas de salas de cine, porque se incluyen multitud de peliculas que se estrenaron directamente en las plataformas de streaming y no recaudaron nada en salas."
   ]
  },
  {
   "cell_type": "code",
   "execution_count": null,
   "metadata": {},
   "outputs": [],
   "source": [
    "oscar2['category']=oscar2['category'].replace(['OUTSTANDING PICTURE','OUTSTANDING PRODUCTION','OUTSTANDING MOTION PICTURE','BEST MOTION PICTURE'],'BEST PICTURE')\n"
   ]
  },
  {
   "cell_type": "markdown",
   "metadata": {},
   "source": [
    "-------------------------"
   ]
  },
  {
   "cell_type": "markdown",
   "metadata": {},
   "source": [
    "## ANÁLISIS ESTADÍSTCO\n",
    "A continuación, queda estudiar los datos tratando de encontrar otros outliers y valores no esperados que puedan afectar a los análisis y representaciones posteriores."
   ]
  },
  {
   "cell_type": "code",
   "execution_count": null,
   "metadata": {},
   "outputs": [],
   "source": [
    "movies322['Income']=movies322['Income'].replace('Unknown',pd.NA)\n",
    "movies322['Income']=movies322['Income'].str.replace('[$,]','',regex=True).str.strip()\n",
    "movies322['Income']=pd.to_numeric(movies322['Income'],errors='coerce')\n",
    "movies322['Income'].median()"
   ]
  },
  {
   "cell_type": "code",
   "execution_count": null,
   "metadata": {},
   "outputs": [],
   "source": [
    "Q1 = movies322['Income'].quantile(0.25)\n",
    "Q3 = movies322['Income'].quantile(0.75)\n",
    "IQR = Q3 - Q1\n",
    "\n",
    "lower_bound = Q1 - 1.5 * IQR\n",
    "upper_bound = Q3 + 1.5 * IQR\n",
    "\n",
    "# Identificar los valores atípicos\n",
    "ioutliers = movies322[(movies322['Income'] < lower_bound) | (movies322['Income'] > upper_bound)]\n",
    "ioutliers.describe()"
   ]
  },
  {
   "cell_type": "code",
   "execution_count": null,
   "metadata": {},
   "outputs": [],
   "source": [
    "fig, axes = plt.subplots(1, 2, figsize=(12, 6), sharey=True)\n",
    "\n",
    "sns.boxenplot(x=movies322['Income'], ax=axes[0], color=\"blue\")\n",
    "axes[0].set_title(\"Distribución\")\n",
    "axes[0].set_xlabel(\"Recaudación\")\n",
    "\n",
    "sns.boxenplot(x=movies322['Budget'], ax=axes[1], color=\"green\")\n",
    "axes[1].set_title(\"Distribución\")\n",
    "axes[1].set_xlabel(\"Presupuesto\")"
   ]
  },
  {
   "cell_type": "code",
   "execution_count": null,
   "metadata": {},
   "outputs": [],
   "source": [
    "movies322[(movies322['Income']>2000000000)|(movies322['Income']<11000)].sort_values('Income').head()"
   ]
  },
  {
   "cell_type": "markdown",
   "metadata": {},
   "source": [
    "Una vez comprobados los datos de presupuesto y recaudacion de esta ds, no hay ningun valor atípico (mas allá de las peliculas mas caras y las que han tenido recaudaciones record, y las peliculas de producción 'casera' y poco conocidas). Sin embargo, el csv de db con un millon de datos lo enccontré después del estudio y limpieza de movies y movies322, y tras haberla contrastado, decidí centrarme en db pues tenia datos igual de fiables de miles de películas mas. \n",
    "En el notebook llamado Movies puedes encontrar una parte del análisis y limpieza que hice de las otras ds."
   ]
  },
  {
   "cell_type": "code",
   "execution_count": null,
   "metadata": {},
   "outputs": [],
   "source": [
    "Q1 = moviesdb['revenue'].quantile(0.25)\n",
    "Q3 = moviesdb['revenue'].quantile(0.75)\n",
    "IQR = Q3 - Q1\n",
    "\n",
    "liminf = Q1 - 1.5 * IQR\n",
    "limsup = Q3 + 1.5 * IQR\n",
    "\n",
    "# Identificar los valores atípicos\n",
    "dbrevoutliers = moviesdb[(moviesdb['revenue'] < liminf) | (moviesdb['revenue'] > limsup)]\n",
    "dbrevoutliers.describe()"
   ]
  },
  {
   "cell_type": "code",
   "execution_count": null,
   "metadata": {},
   "outputs": [],
   "source": [
    "moviesdb['revenue'].describe(percentiles=[.25, .5, .75, .9, .99])"
   ]
  },
  {
   "cell_type": "code",
   "execution_count": null,
   "metadata": {},
   "outputs": [],
   "source": [
    "Q1 = moviesdb['runtime'].quantile(0.25)\n",
    "Q3 = moviesdb['runtime'].quantile(0.75)\n",
    "IQR = Q3 - Q1\n",
    "\n",
    "run_liminf = Q1 - 1.5 * IQR\n",
    "run_limsup = Q3 + 1.5 * IQR\n",
    "\n",
    "# Identificar los valores atípicos\n",
    "dbrunoutliers = moviesdb[(moviesdb['runtime'] < run_liminf) | (moviesdb['runtime'] > run_limsup)]\n",
    "dbrunoutliers.describe()"
   ]
  },
  {
   "cell_type": "code",
   "execution_count": null,
   "metadata": {},
   "outputs": [],
   "source": [
    "moviesdb['runtime'].describe(percentiles=[.25, .5, .75, .9, .99])"
   ]
  },
  {
   "cell_type": "code",
   "execution_count": null,
   "metadata": {},
   "outputs": [],
   "source": [
    "Q1 = moviesdb['budget'].quantile(0.25)\n",
    "Q3 = moviesdb['budget'].quantile(0.75)\n",
    "IQR = Q3 - Q1\n",
    "\n",
    "bud_liminf = Q1 - 1.5 * IQR\n",
    "bud_limsup = Q3 + 1.5 * IQR\n",
    "\n",
    "# Identificar los valores atípicos\n",
    "dbrunoutliers = moviesdb[(moviesdb['budget'] < bud_liminf) | (moviesdb['budget'] > bud_limsup)]\n",
    "dbrunoutliers.describe()"
   ]
  },
  {
   "cell_type": "code",
   "execution_count": null,
   "metadata": {},
   "outputs": [],
   "source": [
    "moviesdb['budget'].describe(percentiles=[.25, .5, .75, .9, .99])"
   ]
  },
  {
   "cell_type": "code",
   "execution_count": null,
   "metadata": {},
   "outputs": [],
   "source": [
    "fig, axes = plt.subplots(1, 2, figsize=(12, 6), sharey=True)\n",
    "sns.boxenplot(x=moviesdb['runtime'], ax=axes[1], color=\"blue\")\n",
    "plt.title('Distr')\n",
    "axes[1].set_title(\"Distribución de la duración\")\n",
    "axes[1].set_xlabel(\"Duración\")\n",
    "\n",
    "sns.boxenplot(x=moviesdb['revenue'], ax=axes[0], color=\"green\")\n",
    "axes[0].set_title(\"Distribución de la recaudación\")\n",
    "axes[0].set_xlabel(\"Recaudación\")\n"
   ]
  },
  {
   "cell_type": "code",
   "execution_count": null,
   "metadata": {},
   "outputs": [],
   "source": [
    "sns.boxenplot(x=moviesdb['budget'], color=\"red\")\n",
    "plt.xlabel('Presupuesto')\n",
    "plt.title('Distribución del presupuesto')"
   ]
  },
  {
   "cell_type": "markdown",
   "metadata": {},
   "source": [
    "Me presentan boxplots muy raros pero no sorprenden, pues incluye películas que no recaudaron nada, y otras que recaudaron mas de 3000 millones, y lo mismo en el presupuesto, con películas de produccion casera y peliculas de presupuesto record. "
   ]
  },
  {
   "cell_type": "code",
   "execution_count": null,
   "metadata": {},
   "outputs": [],
   "source": [
    "moviesdb.sort_values('runtime',ascending=False).head()"
   ]
  },
  {
   "cell_type": "code",
   "execution_count": null,
   "metadata": {},
   "outputs": [],
   "source": [
    "moviesdb[(moviesdb['runtime']>240)&(moviesdb['popularity']<=11)]\n"
   ]
  },
  {
   "cell_type": "code",
   "execution_count": null,
   "metadata": {},
   "outputs": [],
   "source": [
    "mascaralargas= ((moviesdb['runtime']>240)&(moviesdb['popularity']<=10))\n",
    "moviesdb=moviesdb[~mascaralargas]"
   ]
  },
  {
   "cell_type": "code",
   "execution_count": null,
   "metadata": {},
   "outputs": [],
   "source": [
    "moviesdb['popularity'].describe(percentiles=[.25, .5, .75, .95, .99])"
   ]
  },
  {
   "cell_type": "code",
   "execution_count": null,
   "metadata": {},
   "outputs": [],
   "source": [
    "moviesdb[(moviesdb['popularity']==0)&(moviesdb['revenue']>0)].sort_values('popularity',ascending=False)"
   ]
  },
  {
   "cell_type": "code",
   "execution_count": null,
   "metadata": {},
   "outputs": [],
   "source": [
    "moviesdb=moviesdb[(moviesdb['vote_count']>1)|((moviesdb['popularity']==0)&(moviesdb['revenue']>0))]\n",
    "print(moviesdb.shape)\n",
    "moviesdb['popularity'].describe(percentiles=[.25, .5, .75, .95, .99])"
   ]
  },
  {
   "cell_type": "code",
   "execution_count": null,
   "metadata": {},
   "outputs": [],
   "source": [
    "moviesdb[moviesdb['popularity']>500].sort_values('popularity',ascending=False).head(5)"
   ]
  },
  {
   "cell_type": "markdown",
   "metadata": {},
   "source": [
    "Por lo que veo, la popularidad no es muy objetivo (y por tanto fiable a nivel cuantitativo) pues me extraña que, estando el DS ordenado por numero de votos, entre las peliculas con mayor popularidad no haya ninguna de las 1000 que mas votos han recibido, y haya tantas a priori muy poco conocidas y de \"mercados\" pequeños como Nigeria o Islandia. Para tratar de aumentar su fiabilidad, voy a modificar los valores superiores al percentil 99 para tratar de equilibrarla un poco."
   ]
  },
  {
   "cell_type": "code",
   "execution_count": null,
   "metadata": {},
   "outputs": [],
   "source": [
    "moviesdb.loc[moviesdb['popularity'] > 1000, 'popularity'] = moviesdb['popularity'] / 10\n"
   ]
  },
  {
   "cell_type": "code",
   "execution_count": null,
   "metadata": {},
   "outputs": [],
   "source": [
    "moviesdb['popularity'].describe()"
   ]
  },
  {
   "cell_type": "markdown",
   "metadata": {},
   "source": [
    "Incluso con la modificacion carece de utilidad pues ademas de lo observado, el percentil 50 no sube del valor 1. Me ha valido para quitarme los volúmenes y sagas agrupadas que se incluian como películas, pero no voy a darle mas uso."
   ]
  },
  {
   "cell_type": "markdown",
   "metadata": {},
   "source": [
    "Tampoco me puedo fiar por presupuesto pues a tiene algunos errores y valores no esperados, como películas de grandes estudios a las que asigna un presupuesto de 0$. El CSV esta ordenado por nº de votos por lo que voy a probar con esa variable."
   ]
  },
  {
   "cell_type": "code",
   "execution_count": null,
   "metadata": {},
   "outputs": [],
   "source": [
    "print(moviesdb.shape)\n",
    "moviesdb['vote_count'].describe(percentiles=[.10,.25,.5,.6,.85,.9,.95,.98])"
   ]
  },
  {
   "cell_type": "code",
   "execution_count": null,
   "metadata": {},
   "outputs": [],
   "source": [
    "moviesdb[(moviesdb['vote_count']<66)].sort_values('vote_count',ascending=False).head(10)"
   ]
  },
  {
   "cell_type": "code",
   "execution_count": null,
   "metadata": {},
   "outputs": [],
   "source": [
    "conteo_generosnom=oscars['Movie Genre'].str.split(',').explode().replace({\n",
    "    'Musical': 'Música',\n",
    "    'Music':'Música',\n",
    "    'Film-Noir': 'Crimen',\n",
    "    'Comedy':'Comedia',\n",
    "    'Crime':'Crimen',\n",
    "    'War': 'Acción',\n",
    "    'Adventure':'Acción',\n",
    "    'Family':'Familiar',\n",
    "    'Action':'Acción',\n",
    "    'Mystery':'Thriller',\n",
    "    'History':'Historia/Bio',\n",
    "    'Biography': 'Historia/Bio',\n",
    "    'Fantasy':'Fantasia',\n",
    "    'Sport':'Deporte',\n",
    "    'Horror':'Otros',\n",
    "    'Animation':'Otros',\n",
    "    }).value_counts()\n"
   ]
  },
  {
   "cell_type": "code",
   "execution_count": null,
   "metadata": {},
   "outputs": [],
   "source": [
    "oscarwinners=oscars[oscars['Award']=='Winner']\n",
    "conteo_generosw=oscarwinners['Movie Genre'].str.split(',').explode().replace({\n",
    "    'Musical': 'Música',\n",
    "    'Music':'Música',\n",
    "    'Film-Noir': 'Crimen',\n",
    "    'Comedy':'Comedia',\n",
    "    'Crime':'Crimen',\n",
    "    'War': 'Acción',\n",
    "    'Adventure':'Acción',\n",
    "    'Family':'Familiar',\n",
    "    'Action':'Acción',\n",
    "    'Mystery':'Thriller',\n",
    "    'History':'Historia/Bio',\n",
    "    'Biography': 'Historia/Bio',\n",
    "    'Fantasy':'Fantasia',\n",
    "    'Sport':'Deporte',\n",
    "    }).value_counts()"
   ]
  },
  {
   "cell_type": "code",
   "execution_count": null,
   "metadata": {},
   "outputs": [],
   "source": [
    "oscarwinners1=oscarwinners.copy()\n",
    "oscarwinners1['Movie Genre']=oscarwinners['Movie Genre'].apply(lambda x: x.split(',')[0])\n",
    "conteo_oscargenprincipal=oscarwinners1['Movie Genre'].value_counts()\n",
    "conteo_oscargenprincipal"
   ]
  },
  {
   "cell_type": "markdown",
   "metadata": {},
   "source": [
    "Como el csv de los Oscar lo he obtenido de la Academia no voy a limpiarla en exceso pues es una fuente fiable y no voy a atender a las variables numericas sino unicamente el tipo de galardón y el nombre, género y año de la película. Así, la unica limpieza o modificación que he hecho es separar los generos de forma individual y quedarme con el principal en una de ellas, para hacer diferentes graficos."
   ]
  },
  {
   "cell_type": "markdown",
   "metadata": {},
   "source": [
    "-----"
   ]
  },
  {
   "cell_type": "markdown",
   "metadata": {},
   "source": [
    "Para la representacion y la creación de graficos voy a crear diferentes mascaras de db para poder exponer diferentes gráficos, con por ejemplo, las peliculas populares que mas han duran, las peliculas españolas que mas han recaudado, etc."
   ]
  },
  {
   "cell_type": "code",
   "execution_count": null,
   "metadata": {},
   "outputs": [],
   "source": [
    "movies_=pd.merge(movies,movies22,on=['Title','Year'],how='outer')\n",
    "movies_['Runtime_x']=movies_['Runtime_x'].fillna(movies_['Runtime_y'])\n",
    "movies_['genres']=movies_['genres'].fillna(movies_['Genre'])\n",
    "movies_.drop(columns={'Runtime_y','Genre'},inplace=True)\n"
   ]
  },
  {
   "cell_type": "code",
   "execution_count": null,
   "metadata": {},
   "outputs": [],
   "source": [
    "movies_largas=movies_[(movies_['Runtime_x']>180)&((movies['popularity']>8)|(movies_['IMDB Rating']>3))]\n",
    "movies_largas.sort_values('Year',ascending=False).head()\n"
   ]
  },
  {
   "cell_type": "code",
   "execution_count": null,
   "metadata": {},
   "outputs": [],
   "source": [
    "print(moviesdb.shape)\n",
    "print(moviesdb.isnull().sum())\n",
    "print(movies_.shape)\n",
    "print(movies_.isnull().sum())"
   ]
  },
  {
   "cell_type": "code",
   "execution_count": null,
   "metadata": {},
   "outputs": [],
   "source": [
    "print(moviesdb.shape)\n",
    "print(moviesdb[moviesdb['revenue']==0].shape)\n",
    "print(moviesdb[moviesdb['runtime']==0].shape)\n",
    "print(moviesdb[moviesdb['budget']==0].shape)"
   ]
  },
  {
   "cell_type": "code",
   "execution_count": null,
   "metadata": {},
   "outputs": [],
   "source": [
    "moviesdb_=pd.merge(moviesdb,movies_, on=['Title','Year'], how='outer')\n",
    "print(moviesdb_.shape)\n",
    "moviesdb_.head()"
   ]
  },
  {
   "cell_type": "code",
   "execution_count": null,
   "metadata": {},
   "outputs": [],
   "source": [
    "moviesdb_['revenue_x']=moviesdb_['revenue_x'].replace(0,pd.NA)\n",
    "moviesdb_['revenue_x']=moviesdb_['revenue_x'].fillna(moviesdb_['revenue_y'])\n",
    "moviesdb_['runtime']=moviesdb_['runtime'].replace(0,pd.NA)\n",
    "moviesdb_['runtime']=moviesdb_['runtime'].fillna(moviesdb_['Runtime_x'])\n",
    "moviesdb_['budget_x']=moviesdb_['budget_x'].replace(0,pd.NA)\n",
    "moviesdb_['budget_x']=moviesdb_['budget_x'].fillna(moviesdb_['budget_y'])\n",
    "moviesdb_['genres_x']=moviesdb_['genres_x'].fillna(moviesdb_['genres_y'])\n",
    "moviesdb_['vote_average']=moviesdb_['genres_x'].fillna(moviesdb_['IMDB Rating'])\n",
    "moviesdb_['popularity_x']=moviesdb_['popularity_x'].replace(0,pd.NA)\n",
    "moviesdb_['popularity_x']=moviesdb_['popularity_x'].fillna(moviesdb_['popularity_y'])\n",
    "moviesdb_['production_countries_x']=moviesdb_['production_countries_x'].fillna(moviesdb_['production_countries_y'])\n",
    "moviesdb_.drop(columns=['revenue_y','budget_y','Runtime_x','popularity_y','production_countries_y','genres_y','index','IMDB Rating'],inplace=True)\n",
    "print(moviesdb_.isnull().sum())\n",
    "print(moviesdb_.shape)"
   ]
  },
  {
   "cell_type": "code",
   "execution_count": null,
   "metadata": {},
   "outputs": [],
   "source": [
    "print(moviesdb_.shape)\n",
    "print(moviesdb_[moviesdb_['revenue_x']==0].shape)\n",
    "print(moviesdb_[moviesdb_['runtime']==0].shape)\n",
    "print(moviesdb_[moviesdb_['budget_x']==0].shape)"
   ]
  },
  {
   "cell_type": "code",
   "execution_count": null,
   "metadata": {},
   "outputs": [],
   "source": [
    "moviesdb_['decade'] = (moviesdb_['Year'] // 10 * 10).astype(int).astype(str) + \"s\"\n",
    "moviesdb_['decade_numeric'] = moviesdb_['Year'] // 10 * 10\n"
   ]
  },
  {
   "cell_type": "code",
   "execution_count": null,
   "metadata": {},
   "outputs": [],
   "source": [
    "moviesdb[moviesdb['runtime']>180]\n",
    "db180p=moviesdb_[(moviesdb_['runtime']>180)&(moviesdb_['popularity_x']>20)]\n",
    "dbpp=moviesdb_[(moviesdb_['vote_count']>133)]\n",
    "dbpop=moviesdb_[(moviesdb_['vote_count']>1000)]\n",
    "dbesp=moviesdb_[moviesdb_['production_countries_x'].astype(str).str.contains('Spain')]\n",
    "dbpop['Year'].value_counts().sort_index().index"
   ]
  },
  {
   "cell_type": "code",
   "execution_count": null,
   "metadata": {},
   "outputs": [],
   "source": [
    "dbpop.loc['decade'] = (dbpop['Year'] // 10 * 10).astype(int).astype(str) + \"s\"\n",
    "dbpop.loc['decade_numeric'] = dbpop['Year'] // 10 * 10"
   ]
  },
  {
   "cell_type": "code",
   "execution_count": null,
   "metadata": {},
   "outputs": [],
   "source": [
    "moviesdb.shape"
   ]
  },
  {
   "cell_type": "code",
   "execution_count": null,
   "metadata": {},
   "outputs": [],
   "source": [
    "dbpop.sort_values('runtime',ascending=False).head(10)"
   ]
  },
  {
   "cell_type": "code",
   "execution_count": null,
   "metadata": {},
   "outputs": [],
   "source": [
    "plt.figure(figsize=(8,8))\n",
    "sns.lineplot(dbpp.groupby('Year')['runtime'].mean(),color='green')\n",
    "plt.title('DURACION MEDIA DE LAS PELICULAS DE CADA AÑO')\n",
    "plt.ylabel('DURACIÓN (MINUTOS)')\n",
    "plt.xlabel('AÑO')\n",
    "plt.xticks(ticks=range(1922,2032,10))\n",
    "plt.show()"
   ]
  },
  {
   "cell_type": "code",
   "execution_count": null,
   "metadata": {},
   "outputs": [],
   "source": [
    "dbpop.groupby('Year')['runtime'].max().sort_values().index[-2]"
   ]
  },
  {
   "cell_type": "code",
   "execution_count": null,
   "metadata": {},
   "outputs": [],
   "source": [
    "dbpmax = dbpp['runtime'].max()\n",
    "dbpmaxyear = dbpp[dbpp['runtime'] == dbpmax]['Year'].values[0]\n",
    "dbpmaxtitle = dbpp[dbpp['runtime'] == dbpmax]['Title'].values[0]\n",
    "dbpmin = (dbpp.groupby('Year')['runtime'].max()).min()\n",
    "dbpminyear = dbpp[dbpp['runtime'] == dbpmin]['Year'].values[0]\n",
    "dbpmintitle = dbpp[dbpp['runtime'] == dbpmin]['Title'].values[0]\n",
    "dbp2max = dbpp['runtime'].nlargest(2).iloc[-1]\n",
    "dbp2maxyear = dbpp[dbpp['runtime'] == dbp2max]['Year'].values[0]\n",
    "dbp2maxtitle = dbpp[dbpp['runtime'] == dbp2max]['Title'].values[0]\n",
    "dbp3max = dbpp['runtime'].nlargest(3).iloc[-1]\n",
    "dbp3maxyear = dbpp[dbpp['runtime'] == dbp3max]['Year'].values[0]\n",
    "dbp3maxtitle = dbpp[dbpp['runtime'] == dbp3max]['Title'].values[0]\n"
   ]
  },
  {
   "cell_type": "code",
   "execution_count": null,
   "metadata": {},
   "outputs": [],
   "source": [
    "plt.figure(figsize=(10,10))\n",
    "sns.lineplot(dbpp.groupby('Year')['runtime'].max())\n",
    "plt.title('DURACIÓN DE LAS PELICULAS MAS LARGAS DE CADA AÑO \\n (MINIMAMENTE CONOCIDAS)')\n",
    "plt.ylabel('DURACIÓN (MINUTOS)')\n",
    "plt.xlabel('Año')\n",
    "plt.xticks(ticks=range(1911,2031,10))\n",
    "plt.axhline(y=180, color='red', linestyle='dashdot',)\n",
    "plt.axhline(y=120, color='orange', linestyle='dashdot')\n",
    "plt.axhline(y=240, color='maroon', linestyle='dashdot')\n",
    "plt.axhline(y=300, color='black', linestyle='dashdot')\n",
    "plt.text(dbpmaxyear, dbpmax, f'{dbpmaxtitle}, {int(dbpmax)} min.', horizontalalignment='right')\n",
    "plt.plot(dbpmaxyear, dbpmax, 'ro')\n",
    "plt.text(dbp2maxyear, dbp2max, f'{dbp2maxtitle}, {int(dbp2max)} min.', horizontalalignment='right')\n",
    "plt.plot(dbp2maxyear, dbp2max, 'go')\n",
    "plt.text(dbp3maxyear, dbp2max, f'{dbp2maxtitle}, {int(dbp2max)} min.', horizontalalignment='right')\n",
    "plt.plot(dbp3maxyear, dbp2max, 'go') \n",
    "plt.text(dbpminyear, dbpmin, f'{dbpmintitle}, {int(dbpmin)} min.', horizontalalignment='right')\n",
    "plt.plot(dbpminyear, dbpmin, 'bo')  \n",
    "plt.show()"
   ]
  },
  {
   "cell_type": "code",
   "execution_count": null,
   "metadata": {},
   "outputs": [],
   "source": [
    "dbpop.groupby('Year')['runtime'].max().sort_values().head(-1)"
   ]
  },
  {
   "cell_type": "code",
   "execution_count": null,
   "metadata": {},
   "outputs": [],
   "source": [
    "dbmax = dbpop['runtime'].max()\n",
    "dbmaxyear = dbpop[dbpop['runtime'] == dbmax]['Year'].values[0]\n",
    "dbmaxtitle = dbpop[dbpop['runtime'] == dbmax]['Title'].values[0]\n",
    "dbmin = (dbpop.groupby('Year')['runtime'].max()).min()\n",
    "dbminyear = dbpop[dbpop['runtime'] == dbmin]['Year'].values[0]\n",
    "dbmintitle = dbpop[dbpop['runtime'] == dbmin]['Title'].values[0]\n",
    "db2max = dbpop['runtime'].nlargest(2).iloc[-1]\n",
    "db2maxyear = dbpop[dbpop['runtime'] == db2max]['Year'].values[0]\n",
    "db2maxtitle = dbpop[dbpop['runtime'] == db2max]['Title'].values[0]\n",
    "db3max = dbpop['runtime'].nlargest(3).iloc[-1]\n",
    "db3maxyear = dbpop[dbpop['runtime'] == db3max]['Year'].values[0]\n",
    "db3maxtitle = dbpop[dbpop['runtime'] == db3max]['Title'].values[0]\n"
   ]
  },
  {
   "cell_type": "code",
   "execution_count": null,
   "metadata": {},
   "outputs": [],
   "source": [
    "plt.figure(figsize=(10,10))\n",
    "sns.lineplot(data=dbpop.groupby('Year')['runtime'].max())\n",
    "plt.title('CUANTO DURA LA PELICULA POPULAR MAS LARGA DE CADA AÑO')\n",
    "plt.ylabel('DURACIÓN (MINUTOS)')\n",
    "plt.xlabel('AÑO')\n",
    "plt.xticks(ticks=range(1904,2034,10))\n",
    "plt.axhline(y=180, color='red', linestyle='dashdot')\n",
    "plt.axhline(y=120, color='orange', linestyle='dashdot')\n",
    "plt.axhline(y=240, color='maroon', linestyle='dotted')\n",
    "plt.text(dbmaxyear, dbmax, f'{dbmaxtitle}, {int(dbmax)} min.', horizontalalignment='right')\n",
    "plt.plot(dbmaxyear, dbmax, 'ro')\n",
    "plt.text(dbminyear, dbmin, f'{dbmintitle}, {int(dbmin)} min.', horizontalalignment='right')\n",
    "plt.plot(dbminyear, dbmin, 'ro')\n",
    "plt.text(db2maxyear, db2max, f'{db2maxtitle}, {int(db2max)} min.', horizontalalignment='right')\n",
    "plt.plot(db2maxyear, db2max, 'go') \n",
    "plt.text(db3maxyear, db3max, f'{db3maxtitle}, {int(db3max)} min.', horizontalalignment='right')\n",
    "plt.plot(db3maxyear, db3max, 'bo')  \n",
    "plt.show()\n"
   ]
  },
  {
   "cell_type": "code",
   "execution_count": null,
   "metadata": {},
   "outputs": [],
   "source": [
    "dbpop.groupby('Year')['id'].count()"
   ]
  },
  {
   "cell_type": "code",
   "execution_count": null,
   "metadata": {},
   "outputs": [],
   "source": [
    "plt.figure(figsize=(6,6))\n",
    "sns.lineplot(dbpp.groupby('Year')['Title'].count())\n",
    "plt.title('PELÍCULAS ANALIZADAS POR AÑO')\n",
    "plt.ylabel('NÚMERO DE PELICULAS')\n",
    "plt.xlabel('AÑO')\n",
    "plt.xticks(ticks=range(1922,2032,10))\n",
    "plt.show()"
   ]
  },
  {
   "cell_type": "code",
   "execution_count": null,
   "metadata": {},
   "outputs": [],
   "source": [
    "dbesp['Year']=dbesp['Year'].replace(0,pd.NA)\n"
   ]
  },
  {
   "cell_type": "code",
   "execution_count": null,
   "metadata": {},
   "outputs": [],
   "source": [
    "dbesp['Year'].value_counts().sort_index().index"
   ]
  },
  {
   "cell_type": "code",
   "execution_count": null,
   "metadata": {},
   "outputs": [],
   "source": [
    "plt.figure(figsize=(7,7))\n",
    "sns.lineplot(dbesp.groupby('Year')['runtime'].mean())\n",
    "plt.title('DURACIÓN MEDIA DE LAS PELÍCULAS ESPAÑOLAS')\n",
    "plt.ylabel('DURACIÓN (MINUTOS)')\n",
    "plt.xlabel('Año')\n",
    "plt.axhline(y=120, color='orange', linestyle='dashdot')\n",
    "plt.xticks(ticks=range(1917,2037,10));"
   ]
  },
  {
   "cell_type": "code",
   "execution_count": null,
   "metadata": {},
   "outputs": [],
   "source": [
    "duracion_media = dbesp.groupby('Year')['runtime'].mean()\n",
    "num_peliculas = dbesp['Year'].value_counts().sort_index()\n",
    "\n",
    "plt.figure(figsize=(7, 7))\n",
    "sns.lineplot(x=duracion_media.index, y=duracion_media.values, label='Duración Media', color='blue')\n",
    "plt.title('Duración Media de las Películas Españolas')\n",
    "plt.ylabel('Duración Media (minutos)')\n",
    "plt.xlabel('Año')\n",
    "plt.xticks(ticks=range(1914, 2034, 10))\n",
    "plt.legend(loc='upper left')\n",
    "\n",
    "ax2 = plt.gca().twinx() \n",
    "sns.lineplot(x=num_peliculas.index, y=num_peliculas.values, label='Nº de Películas', ax=ax2, color='grey')\n",
    "ax2.set_ylabel('Peliculas analizadas')\n",
    "ax2.legend(loc='upper right')\n",
    "\n",
    "# Mostrar el gráfico\n",
    "plt.show()\n"
   ]
  },
  {
   "cell_type": "code",
   "execution_count": null,
   "metadata": {},
   "outputs": [],
   "source": [
    "plt.figure(figsize=(10, 6))\n",
    "sns.scatterplot(data=moviesdb, x='budget', y='revenue')\n",
    "plt.title('Presupuesto vs Recaudación')\n",
    "plt.xlabel('Presupuesto')\n",
    "plt.ylabel('Recaudación')\n",
    "plt.xscale('log')\n",
    "plt.yscale('log')\n",
    "plt.show()\n",
    "\n"
   ]
  },
  {
   "cell_type": "code",
   "execution_count": null,
   "metadata": {},
   "outputs": [],
   "source": [
    "sns.scatterplot(x=dbpop['revenue_x'],y=dbpop['runtime'],sizes=(10,500))\n"
   ]
  },
  {
   "cell_type": "code",
   "execution_count": null,
   "metadata": {},
   "outputs": [],
   "source": [
    "sns.lineplot(movies.groupby('Year')['Runtime'].max())\n",
    "sns.lineplot(movies22.groupby('Year')['Runtime'].max(),color='red')\n",
    "plt.show()"
   ]
  },
  {
   "cell_type": "markdown",
   "metadata": {},
   "source": [
    "Y tras todo esta limpieza y analisis de este ds, se ve que no hay nada apreciable. A ver si combinandolo con la otra ds consigo algo."
   ]
  },
  {
   "cell_type": "markdown",
   "metadata": {},
   "source": [
    "Voy a intentar rellenar los valores erroneos y los nans juntando todas"
   ]
  },
  {
   "cell_type": "markdown",
   "metadata": {},
   "source": [
    "A ver si combinando los ds puedo rellenar algunos ceros, y de paso convertir los que no limpie en nans para que no me afecten al estudio."
   ]
  },
  {
   "cell_type": "markdown",
   "metadata": {},
   "source": [
    "El tamaño me permite entender que la fusion ha funcionado para alrededor de 4000 películas, de las 5200 que habia en movies_, buenos numeros.\n",
    "Ahora voy a intentar rellenar nans y ceros de la original db, con las otras"
   ]
  },
  {
   "cell_type": "markdown",
   "metadata": {},
   "source": [
    "Poco he limpiado, y aun habiendo convertido los 0 en nulls, sigue habiendo 0. Voy a añadir una columna de decadas para los tonos y colores en los graficos de correlaciones que voy a hacer."
   ]
  },
  {
   "cell_type": "code",
   "execution_count": null,
   "metadata": {},
   "outputs": [],
   "source": [
    "dbpop.shape"
   ]
  },
  {
   "cell_type": "code",
   "execution_count": null,
   "metadata": {},
   "outputs": [],
   "source": [
    "plt.figure(figsize=(8,8))\n",
    "sns.scatterplot(data=dbpop, x='budget_x', y='revenue_x', hue='decade_numeric', palette='magma', hue_norm=(dbpop['decade_numeric'].min(), dbpop['decade_numeric'].max()), alpha=0.5)\n",
    "plt.title('PRESUPUESTO vs RECAUDACIÓN \\n 4000 peliculas mas populares')\n",
    "plt.xlabel('Presupuesto')\n",
    "plt.ylabel('Recaudación')\n",
    "plt.legend(title='Decada')\n",
    "plt.xscale('log')\n",
    "plt.yscale('log')\n",
    "plt.xlim(60000,1000000000)\n",
    "plt.ylim(60000,10000000000)"
   ]
  },
  {
   "cell_type": "code",
   "execution_count": null,
   "metadata": {},
   "outputs": [],
   "source": [
    "plt.figure(figsize=(10, 6))\n",
    "sns.regplot(data=moviesdb_, x='budget_x', y='revenue_x',scatter_kws={'alpha':0.3}, line_kws={'color':'red'})\n",
    "plt.title('Presupuesto vs Recaudación (Regresion Lineal)')\n",
    "plt.xlabel('Presupuesto')\n",
    "plt.ylabel('Recaudación')\n",
    "plt.xscale('log')\n",
    "plt.yscale('log')\n",
    "plt.show()"
   ]
  },
  {
   "cell_type": "code",
   "execution_count": null,
   "metadata": {},
   "outputs": [],
   "source": [
    "plt.figure(figsize=(10, 6))\n",
    "sns.scatterplot(data=dbpop, x='runtime', y='revenue_x', alpha=0.5)\n",
    "plt.title('Relación entre la duración y la recaudación')\n",
    "plt.xlabel('Duración (minutos)')\n",
    "plt.ylabel('Recaudación ($)')\n",
    "plt.yscale('log')\n",
    "plt.show()"
   ]
  },
  {
   "cell_type": "markdown",
   "metadata": {},
   "source": [
    "Necesito agrupar las duraciones como he hecho con las decadas"
   ]
  },
  {
   "cell_type": "code",
   "execution_count": null,
   "metadata": {},
   "outputs": [],
   "source": [
    "grupos = [0, 90, 120, 150, 180, 240] \n",
    "label = ['<1.5h', '1.5-2h', '2-2.5h', '2.5-3h', '3h+']\n",
    "dbpop.loc[:, 'runtime_group'] = pd.cut(dbpop['runtime'], bins=grupos, labels=label)\n"
   ]
  },
  {
   "cell_type": "code",
   "execution_count": null,
   "metadata": {},
   "outputs": [],
   "source": [
    "dbpop.sort_values('budget_x',ascending=False)"
   ]
  },
  {
   "cell_type": "markdown",
   "metadata": {},
   "source": [
    "Voy a tratar de mostrar la media de recaudacion de las peliculas agrupandolas por los intervalos de duración, para despues de ello hacer un gráfico que muestre las diferencias entre medias."
   ]
  },
  {
   "cell_type": "code",
   "execution_count": null,
   "metadata": {},
   "outputs": [],
   "source": [
    "runtimemedia = dbpop.groupby('runtime_group')['revenue_x'].mean()\n",
    "runtimemed=runtimemedia.reset_index()\n",
    "cuantos= dbpop.groupby('runtime_group').size()\n",
    "runtimemed['contador'] = cuantos.values\n",
    "runtimemed\n"
   ]
  },
  {
   "cell_type": "code",
   "execution_count": null,
   "metadata": {},
   "outputs": [],
   "source": [
    "plt.figure(figsize=(10, 6))\n",
    "bar=sns.barplot(data=runtimemed, x='runtime_group',y='revenue_x',color='skyblue')\n",
    "plt.title('Recaudación promedio por duración')\n",
    "plt.xlabel('Duración')\n",
    "plt.ylabel('Recaudación promedio')\n",
    "plt.bar_label(bar.containers[0], labels=runtimemed['contador'], label_type='edge', fontsize=10)\n",
    "\n",
    "plt.ylim(10000000,500000000)\n",
    "plt.show()"
   ]
  },
  {
   "cell_type": "markdown",
   "metadata": {},
   "source": [
    "Aunque la gráfica tiene sentido, atendiendo al escaso numero de peliculas largas que hay pero el renombre y el impacto mediático que tiene cada una, voy a estudiar la rentabilidad por fragmentos, atendiendo al presupuesto y la recaudacion."
   ]
  },
  {
   "cell_type": "code",
   "execution_count": null,
   "metadata": {},
   "outputs": [],
   "source": [
    "dbpop.groupby('runtime_group')['budget_x'].mean()"
   ]
  },
  {
   "cell_type": "code",
   "execution_count": null,
   "metadata": {},
   "outputs": [],
   "source": [
    "runtimebmedia = dbpop.groupby('runtime_group')['budget_x'].mean()\n",
    "runtimebmed = runtimebmedia.reset_index()\n",
    "cuantos = dbpop.groupby('runtime_group').size()\n",
    "runtimebmed['contador'] = cuantos.values\n",
    "runtimebmed"
   ]
  },
  {
   "cell_type": "code",
   "execution_count": null,
   "metadata": {},
   "outputs": [],
   "source": [
    "runtimerent = dbpop.groupby('runtime_group').apply(lambda x: (x['revenue_x'] - x['budget_x']).mean())\n",
    "runtimerentabilidad = runtimerent.reset_index(name='rentabilidad')\n",
    "cuantos = dbpop.groupby('runtime_group').size()\n",
    "runtimerentabilidad['contador'] = cuantos.values\n",
    "print(runtimerentabilidad.columns);\n",
    "runtimerentabilidad\n"
   ]
  },
  {
   "cell_type": "code",
   "execution_count": null,
   "metadata": {},
   "outputs": [],
   "source": [
    "plt.figure(figsize=(10, 6))\n",
    "bar=sns.barplot(data=runtimerentabilidad, x='runtime_group',y='rentabilidad',color='skyblue')\n",
    "plt.title('Rentabilidad promedio por duración')\n",
    "plt.xlabel('Duración')\n",
    "plt.ylabel('Rentabilidad (recaudación-presupuesto)')\n",
    "plt.bar_label(bar.containers[0], labels=runtimerentabilidad['contador'], label_type='edge', fontsize=10)\n",
    "plt.gca().set_yticklabels([f'{int(y/1e6)}M' for y in plt.gca().get_yticks()]) #he tenido que buscar como evitar el 1e8 en la esquina\n",
    "\n",
    "\n",
    "plt.ylim(60000000,400000000)\n",
    "plt.show()"
   ]
  },
  {
   "cell_type": "code",
   "execution_count": null,
   "metadata": {},
   "outputs": [],
   "source": [
    "peliculas_con_revenue_0 = dbpop[dbpop['revenue_x']<1000000]\n",
    "\n",
    "ceroporgrupo = peliculas_con_revenue_0.groupby('runtime_group').size()\n",
    "ceroporgrupo"
   ]
  },
  {
   "cell_type": "markdown",
   "metadata": {},
   "source": [
    "Voy a intentar estudiar la hipotesis de las secuelas analizando la repeticion de palabras en los titulos. Aunque muchas secuelas o precuelas cambian el titulo o se dirigen a otro personaje de la pelicula original, hay un buen numero que simplemente añaden una coletilla o un numero a la pelicula original, o directamente copian el nombre (Aladdin, Scary Movie...)"
   ]
  },
  {
   "cell_type": "code",
   "execution_count": null,
   "metadata": {},
   "outputs": [],
   "source": []
  },
  {
   "cell_type": "code",
   "execution_count": null,
   "metadata": {},
   "outputs": [],
   "source": [
    "moviesdbinfo.rename(columns={'release_date':'Year'},inplace=True)\n",
    "moviesdbinfo.rename(columns={'title':'Title'},inplace=True)\n",
    "moviesdbinfo['popularity'] = moviesdbinfo['popularity'].apply(lambda x: str(x).split('.')[0])\n",
    "moviesdbinfo['popularity'] = moviesdbinfo['popularity'].astype(int)\n",
    "moviesdbinfo['Year'] = moviesdbinfo['Year'].apply(lambda x: str(x).split('-')[0])\n",
    "moviesdbinfo['Year']=moviesdbinfo['Year'].replace('nan','0')\n",
    "moviesdbinfo['Year']=moviesdbinfo['Year'].fillna(0)\n",
    "moviesdbinfo['Year']=moviesdbinfo['Year'].replace(0,pd.NA)\n",
    "moviesdbinfo['Year']=moviesdbinfo['Year'].astype('int')\n",
    "moviesdb_['decade'] = (moviesdb_['Year'] // 10 * 10).astype(int).astype(str) + \"s\"\n",
    "dbpop['decade'] = (dbpop['Year'] // 10 * 10).astype(str) + \"s\"\n",
    "moviesdb_['decade_numeric'] = moviesdb_['Year'] // 10 * 10\n",
    "dbpop['decade_numeric'] = dbpop['Year'] // 10 * 10"
   ]
  },
  {
   "cell_type": "code",
   "execution_count": null,
   "metadata": {},
   "outputs": [],
   "source": [
    "moviesdbinfo['decade'] = (moviesdbinfo['Year'] // 10 * 10).astype(int).astype(str) + \"s\"\n",
    "moviesdbinfo['decade_numeric'] = moviesdbinfo['Year'] // 10 * 10\n",
    "moviesdbinfo.columns\n",
    "\n"
   ]
  },
  {
   "cell_type": "code",
   "execution_count": null,
   "metadata": {},
   "outputs": [],
   "source": [
    "popinfo=moviesdbinfo[(moviesdbinfo['vote_count']>300)]\n",
    "popinfo.shape"
   ]
  },
  {
   "cell_type": "code",
   "execution_count": null,
   "metadata": {},
   "outputs": [],
   "source": [
    "palabrasec = ['sequel', 'remake', 'reboot', 'prequel', 'spin-off', 'spinoff', 'based on']\n",
    "posiblesec = popinfo[popinfo['overview'].astype(str).str.contains('|'.join(palabrasec), case=False, na=False)]\n",
    "posiblesec.shape"
   ]
  },
  {
   "cell_type": "code",
   "execution_count": null,
   "metadata": {},
   "outputs": [],
   "source": [
    "posiblesec.head(2)"
   ]
  },
  {
   "cell_type": "code",
   "execution_count": null,
   "metadata": {},
   "outputs": [],
   "source": [
    "plt.figure(figsize=(8,8))\n",
    "plt.title('Peliculas cuya descripcion incluye una palabra clave')\n",
    "plt.ylabel('Nº de películas')\n",
    "plt.xlabel('Decada')\n",
    "sns.lineplot(posiblesec.groupby('decade')['Title'].count())"
   ]
  },
  {
   "cell_type": "code",
   "execution_count": null,
   "metadata": {},
   "outputs": [],
   "source": [
    "print(popinfo[(popinfo['Year']>=2010)&(popinfo['Year']<2020)].shape)\n",
    "print(popinfo[popinfo['Year']>=2020].shape)\n"
   ]
  },
  {
   "cell_type": "code",
   "execution_count": null,
   "metadata": {},
   "outputs": [],
   "source": [
    "plt.figure(figsize=(10,8))\n",
    "sns.barplot(popinfo.groupby('decade_numeric')['Title'].count())\n",
    "plt.title('Peliculas analizadas en la hipotesis de las secuelas')"
   ]
  },
  {
   "cell_type": "markdown",
   "metadata": {},
   "source": [
    "Ya que con las descripciones no he obtenido los resultados que esperaba, aun teniendo en cuenta que hay tres veces mas peliculas de la anterior decada que de la actual, voy a intentarlo con los titulos, buscando las peliculas que repiten palabras grandes en sus nombres (ignorando los articulos y conectores comunes), y que incluyen números, numeros en romano, o 'Parte'. Para ello, admito que me he ayudado de ChatGPT pues no conseguia hacerlo bien para dividir los titulos en palabras y letras, buscar repeticiones y hacer la triple mascara junto con los numeros y las palabras clave."
   ]
  },
  {
   "cell_type": "code",
   "execution_count": null,
   "metadata": {},
   "outputs": [],
   "source": [
    "palabras_comunes = ['the', 'a', 'an', 'and', 'or', 'of', 'in', 'on', 'to', 'for', 'with', 'by']\n",
    "palabras_clave = ['part', 'p.', 'volume', 'vol.']\n",
    "\n",
    "# Filtrar títulos con palabras repetidas\n",
    "mask_repetidos = popinfo['Title'].astype(str).str.lower().str.split().apply(lambda palabras: any(palabras.count(p) > 1 for p in palabras if p not in palabras_comunes))\n",
    "\n",
    "# Filtrar con números o números romanos\n",
    "mask_numeros = popinfo['Title'].str.contains(r'\\b(?:[0-9]+|[ivxlcdmIVXLCDM]+)\\b', na=False, case=False)\n",
    "\n",
    "# Con palabras clave\n",
    "mask_palabras_clave = popinfo['Title'].str.contains('|'.join(palabras_clave), case=False, na=False)\n",
    "\n",
    "# Combinar todas las máscaras\n",
    "masksecuelas = mask_repetidos | mask_numeros | mask_palabras_clave\n",
    "\n",
    "titulossecuelas = popinfo[masksecuelas]\n",
    "\n",
    "titulossecuelas.shape"
   ]
  },
  {
   "cell_type": "code",
   "execution_count": null,
   "metadata": {},
   "outputs": [],
   "source": [
    "plt.figure(figsize=(8,8))\n",
    "plt.title('Peliculas cuyo título incluye una palabra clave o repetida')\n",
    "plt.ylabel('Nº de películas')\n",
    "plt.xlabel('Decada')\n",
    "sns.lineplot(titulossecuelas.groupby('decade')['Title'].count())"
   ]
  },
  {
   "cell_type": "code",
   "execution_count": null,
   "metadata": {},
   "outputs": [],
   "source": [
    "secuelas=pd.merge(posiblesec,titulossecuelas,on=['Title','decade','decade_numeric'],how='outer')\n",
    "secuelas.columns"
   ]
  },
  {
   "cell_type": "code",
   "execution_count": null,
   "metadata": {},
   "outputs": [],
   "source": [
    "plt.figure(figsize=(8,8))\n",
    "plt.title('Peliculas cuyo título o descripcion incluye una palabra clave o repetida')\n",
    "plt.ylabel('Nº de películas')\n",
    "plt.xlabel('Decada')\n",
    "sns.lineplot(secuelas.groupby('decade')['Title'].count())"
   ]
  },
  {
   "cell_type": "markdown",
   "metadata": {},
   "source": [
    "Tampoco me muestra nada cercano a mi hipótesis, asi que para terminar voy a tratar de conseguir un grafico que muestre el ratio de peliculas cuyo titulo o descripcion incluya una palabra clave/peliculas analizadas en esta hipotesis, por decadas, a ver si me aporta algo mas cercano a lo que creía."
   ]
  },
  {
   "cell_type": "code",
   "execution_count": null,
   "metadata": {},
   "outputs": [],
   "source": [
    "total_por_decada = popinfo.groupby('decade')['Title'].count()\n",
    "secuelas_por_decada = secuelas.groupby('decade')['Title'].count()\n",
    "ratio_por_decada = secuelas_por_decada / total_por_decada"
   ]
  },
  {
   "cell_type": "code",
   "execution_count": null,
   "metadata": {},
   "outputs": [],
   "source": [
    "plt.figure(figsize=(10, 6))\n",
    "plt.bar(ratio_por_decada.index,ratio_por_decada.values, color='skyblue')\n",
    "plt.title('Ratio de películas con palabras clave en el título o descripción por Década')\n",
    "plt.xlabel('Decada')\n",
    "plt.ylabel('Ratio de películas')\n",
    "plt.xticks(rotation=45)\n",
    "plt.grid(axis='y', linestyle='--', alpha=0.7)"
   ]
  },
  {
   "cell_type": "code",
   "execution_count": null,
   "metadata": {},
   "outputs": [],
   "source": [
    "plt.figure(figsize=(12,7))\n",
    "plt.pie(data=conteo_generosnom,x=conteo_generosnom,labels=conteo_generosnom.values)\n",
    "plt.title('Nominaciones a Oscar a Mejor Pelicula 1928-2020. \\n (570 películas nominadas)')\n",
    "plt.legend(conteo_generosnom.index,title='GÉNERO',loc='center left',bbox_to_anchor=(1,0.5))\n",
    "plt.show()"
   ]
  },
  {
   "cell_type": "code",
   "execution_count": null,
   "metadata": {},
   "outputs": [],
   "source": [
    "plt.figure(figsize=(12,7))\n",
    "plt.pie(data=conteo_generosw,x=conteo_generosw,labels=conteo_generosw.values)\n",
    "plt.title('GANADORAS a Oscar a Mejor Película 1928-2020 \\n -93 ediciones-',loc='center')\n",
    "plt.legend(conteo_generosw.index,title='GÉNERO',loc='center left',bbox_to_anchor=(1,0.5))\n",
    "plt.show()"
   ]
  },
  {
   "cell_type": "code",
   "execution_count": null,
   "metadata": {},
   "outputs": [],
   "source": [
    "plt.figure(figsize=(12,7))\n",
    "sns.barplot(conteo_oscargenprincipal,color='gold')\n",
    "plt.ylabel('PREMIOS')\n",
    "plt.xlabel('GÉNERO PRINCIPAL')\n",
    "plt.title('Oscar a Mejor Pelicula 1928-2020',loc='center')\n",
    "plt.show()"
   ]
  },
  {
   "cell_type": "code",
   "execution_count": null,
   "metadata": {},
   "outputs": [],
   "source": [
    "df = pd.read_csv(\"/Users/juanzubiaga/Desktop/BOOTCAMPDS/1-Local/EDA/J-EDA/TMDB_Movie_Limpito.csv\")"
   ]
  },
  {
   "cell_type": "code",
   "execution_count": null,
   "metadata": {},
   "outputs": [],
   "source": [
    "df.to_parquet(\"./test.parquet\")"
   ]
  },
  {
   "cell_type": "code",
   "execution_count": null,
   "metadata": {},
   "outputs": [],
   "source": [
    "df2 = pd.read_parquet(\"./test.parquet\")"
   ]
  },
  {
   "cell_type": "code",
   "execution_count": null,
   "metadata": {},
   "outputs": [],
   "source": [
    "df2.dtypes"
   ]
  },
  {
   "cell_type": "code",
   "execution_count": null,
   "metadata": {},
   "outputs": [],
   "source": []
  }
 ],
 "metadata": {
  "kernelspec": {
   "display_name": "Python 3",
   "language": "python",
   "name": "python3"
  },
  "language_info": {
   "codemirror_mode": {
    "name": "ipython",
    "version": 3
   },
   "file_extension": ".py",
   "mimetype": "text/x-python",
   "name": "python",
   "nbconvert_exporter": "python",
   "pygments_lexer": "ipython3",
   "version": "3.13.1"
  }
 },
 "nbformat": 4,
 "nbformat_minor": 2
}
